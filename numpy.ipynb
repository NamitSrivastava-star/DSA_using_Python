{
 "cells": [
  {
   "cell_type": "code",
   "execution_count": 1,
   "metadata": {},
   "outputs": [
    {
     "name": "stdout",
     "output_type": "stream",
     "text": [
      "Numerical Python\n"
     ]
    }
   ],
   "source": [
    "print(\"Numerical Python\")"
   ]
  },
  {
   "cell_type": "code",
   "execution_count": 2,
   "metadata": {},
   "outputs": [
    {
     "name": "stdout",
     "output_type": "stream",
     "text": [
      "Collecting numpy\n",
      "  Using cached numpy-2.2.1-cp311-cp311-win_amd64.whl.metadata (60 kB)\n",
      "Using cached numpy-2.2.1-cp311-cp311-win_amd64.whl (12.9 MB)\n",
      "Installing collected packages: numpy\n",
      "Successfully installed numpy-2.2.1\n",
      "Note: you may need to restart the kernel to use updated packages.\n"
     ]
    }
   ],
   "source": [
    "pip install numpy"
   ]
  },
  {
   "cell_type": "code",
   "execution_count": 3,
   "metadata": {},
   "outputs": [],
   "source": [
    "import numpy as np"
   ]
  },
  {
   "cell_type": "markdown",
   "metadata": {},
   "source": [
    "## Difference between numpy and list in execution time"
   ]
  },
  {
   "cell_type": "code",
   "execution_count": 13,
   "metadata": {},
   "outputs": [
    {
     "name": "stdout",
     "output_type": "stream",
     "text": [
      "List Execution Time in Seconds:  88.77789783477783\n",
      "Numpy Execution Time in Seconds:  7.975754261016846\n"
     ]
    }
   ],
   "source": [
    "import time\n",
    "size = 10000\n",
    "lst1 = [[element for element in range(size)]for element in range(size)]\n",
    "lst2 = [[element for element in range(size)]for element in range(size)]\n",
    "start = time.time()\n",
    "for i in range(size):\n",
    "    for j in range(size):\n",
    "        lst1[i][j] + lst2[i][j]\n",
    "\n",
    "end = time.time()\n",
    "\n",
    "print(\"List Execution Time in Seconds: \",end-start)\n",
    "\n",
    "num_arr1 = np.array(lst1)\n",
    "num_arr2 = np.array(lst2)\n",
    "begin = time.time()\n",
    "num_arr1 + num_arr2\n",
    "last = time.time()\n",
    "print(\"Numpy Execution Time in Seconds: \", last-begin)"
   ]
  },
  {
   "cell_type": "code",
   "execution_count": null,
   "metadata": {},
   "outputs": [],
   "source": []
  }
 ],
 "metadata": {
  "kernelspec": {
   "display_name": "Python 3.11.0 ('venv': venv)",
   "language": "python",
   "name": "python3"
  },
  "language_info": {
   "codemirror_mode": {
    "name": "ipython",
    "version": 3
   },
   "file_extension": ".py",
   "mimetype": "text/x-python",
   "name": "python",
   "nbconvert_exporter": "python",
   "pygments_lexer": "ipython3",
   "version": "3.11.0"
  },
  "orig_nbformat": 4,
  "vscode": {
   "interpreter": {
    "hash": "45d5c45f3fabf59b578ea21337681c975c5e5a2a2563abee5fe6e9ecd9235656"
   }
  }
 },
 "nbformat": 4,
 "nbformat_minor": 2
}
